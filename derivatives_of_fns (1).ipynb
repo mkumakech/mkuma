{
 "cells": [
  {
   "cell_type": "markdown",
   "id": "80bcaf82",
   "metadata": {},
   "source": [
    "<h2>Derivatives in Python</h2> "
   ]
  },
  {
   "cell_type": "markdown",
   "id": "6f398619",
   "metadata": {},
   "source": [
    "<b> By Michael Kumakech</b>"
   ]
  },
  {
   "cell_type": "markdown",
   "id": "0c9eb5fa",
   "metadata": {},
   "source": [
    "<h2> Question 1</h2>"
   ]
  },
  {
   "cell_type": "code",
   "execution_count": 1,
   "id": "9bc89199",
   "metadata": {},
   "outputs": [
    {
     "name": "stdout",
     "output_type": "stream",
     "text": [
      "Requirement already satisfied: sympy in c:\\users\\pc\\anaconda3\\lib\\site-packages (1.10.1)\n",
      "Requirement already satisfied: mpmath>=0.19 in c:\\users\\pc\\anaconda3\\lib\\site-packages (from sympy) (1.2.1)\n"
     ]
    }
   ],
   "source": [
    "!pip install sympy"
   ]
  },
  {
   "cell_type": "code",
   "execution_count": 9,
   "id": "55b35b24",
   "metadata": {},
   "outputs": [],
   "source": [
    "import sympy as sym\n",
    "import numpy as np\n",
    "import matplotlib.pyplot as plt\n",
    "%matplotlib inline"
   ]
  },
  {
   "cell_type": "code",
   "execution_count": 11,
   "id": "f385979a",
   "metadata": {},
   "outputs": [
    {
     "data": {
      "text/latex": [
       "$\\displaystyle 5 X^{4}$"
      ],
      "text/plain": [
       "5*X**4"
      ]
     },
     "execution_count": 11,
     "metadata": {},
     "output_type": "execute_result"
    }
   ],
   "source": [
    "X =sym.Symbol(\"X\")\n",
    "y =X**5\n",
    "sym.diff(y)\n"
   ]
  },
  {
   "cell_type": "code",
   "execution_count": 13,
   "id": "d56b3945",
   "metadata": {},
   "outputs": [
    {
     "ename": "ValueError",
     "evalue": "\nSince there are no variables in the expression, the variable(s) of\ndifferentiation must be supplied to differentiate [-6.0,\n-5.75510204081633, -5.51020408163265, -5.26530612244898,\n-5.02040816326531, -4.77551020408163, -4.53061224489796,\n-4.28571428571429, -4.04081632653061, -3.79591836734694,\n-3.55102040816327, -3.30612244897959, -3.06122448979592,\n-2.81632653061224, -2.57142857142857, -2.3265306122449,\n-2.08163265306122, -1.83673469387755, -1.59183673469388,\n-1.3469387755102, -1.10204081632653, -0.857142857142858,\n-0.612244897959184, -0.36734693877551, -0.122448979591837,\n0.122448979591836, 0.36734693877551, 0.612244897959184,\n0.857142857142857, 1.10204081632653, 1.3469387755102,\n1.59183673469388, 1.83673469387755, 2.08163265306122, 2.3265306122449,\n2.57142857142857, 2.81632653061224, 3.06122448979592,\n3.30612244897959, 3.55102040816326, 3.79591836734694,\n4.04081632653061, 4.28571428571428, 4.53061224489796,\n4.77551020408163, 5.02040816326531, 5.26530612244898,\n5.51020408163265, 5.75510204081633, 6.0]",
     "output_type": "error",
     "traceback": [
      "\u001b[1;31m---------------------------------------------------------------------------\u001b[0m",
      "\u001b[1;31mValueError\u001b[0m                                Traceback (most recent call last)",
      "Input \u001b[1;32mIn [13]\u001b[0m, in \u001b[0;36m<cell line: 2>\u001b[1;34m()\u001b[0m\n\u001b[0;32m      1\u001b[0m y \u001b[38;5;241m=\u001b[39m np\u001b[38;5;241m.\u001b[39mlinspace(\u001b[38;5;241m-\u001b[39m\u001b[38;5;241m6\u001b[39m, \u001b[38;5;241m6\u001b[39m)\n\u001b[1;32m----> 2\u001b[0m plt\u001b[38;5;241m.\u001b[39mplot(y, \u001b[43msym\u001b[49m\u001b[38;5;241;43m.\u001b[39;49m\u001b[43mdiff\u001b[49m\u001b[43m(\u001b[49m\u001b[43my\u001b[49m\u001b[43m)\u001b[49m, color\u001b[38;5;241m=\u001b[39m\u001b[38;5;124m'\u001b[39m\u001b[38;5;124mgreen\u001b[39m\u001b[38;5;124m'\u001b[39m, label\u001b[38;5;241m=\u001b[39m\u001b[38;5;124m'\u001b[39m\u001b[38;5;124mDerivative\u001b[39m\u001b[38;5;124m'\u001b[39m)\n\u001b[0;32m      3\u001b[0m plt\u001b[38;5;241m.\u001b[39mshow()\n",
      "File \u001b[1;32m~\\anaconda3\\lib\\site-packages\\sympy\\core\\function.py:2501\u001b[0m, in \u001b[0;36mdiff\u001b[1;34m(f, *symbols, **kwargs)\u001b[0m\n\u001b[0;32m   2499\u001b[0m     \u001b[38;5;28;01mreturn\u001b[39;00m f\u001b[38;5;241m.\u001b[39mdiff(\u001b[38;5;241m*\u001b[39msymbols, \u001b[38;5;241m*\u001b[39m\u001b[38;5;241m*\u001b[39mkwargs)\n\u001b[0;32m   2500\u001b[0m kwargs\u001b[38;5;241m.\u001b[39msetdefault(\u001b[38;5;124m'\u001b[39m\u001b[38;5;124mevaluate\u001b[39m\u001b[38;5;124m'\u001b[39m, \u001b[38;5;28;01mTrue\u001b[39;00m)\n\u001b[1;32m-> 2501\u001b[0m \u001b[38;5;28;01mreturn\u001b[39;00m _derivative_dispatch(f, \u001b[38;5;241m*\u001b[39msymbols, \u001b[38;5;241m*\u001b[39m\u001b[38;5;241m*\u001b[39mkwargs)\n",
      "File \u001b[1;32m~\\anaconda3\\lib\\site-packages\\sympy\\core\\function.py:1923\u001b[0m, in \u001b[0;36m_derivative_dispatch\u001b[1;34m(expr, *variables, **kwargs)\u001b[0m\n\u001b[0;32m   1921\u001b[0m     \u001b[38;5;28;01mfrom\u001b[39;00m \u001b[38;5;21;01msympy\u001b[39;00m\u001b[38;5;21;01m.\u001b[39;00m\u001b[38;5;21;01mtensor\u001b[39;00m\u001b[38;5;21;01m.\u001b[39;00m\u001b[38;5;21;01marray\u001b[39;00m\u001b[38;5;21;01m.\u001b[39;00m\u001b[38;5;21;01marray_derivatives\u001b[39;00m \u001b[38;5;28;01mimport\u001b[39;00m ArrayDerivative\n\u001b[0;32m   1922\u001b[0m     \u001b[38;5;28;01mreturn\u001b[39;00m ArrayDerivative(expr, \u001b[38;5;241m*\u001b[39mvariables, \u001b[38;5;241m*\u001b[39m\u001b[38;5;241m*\u001b[39mkwargs)\n\u001b[1;32m-> 1923\u001b[0m \u001b[38;5;28;01mreturn\u001b[39;00m Derivative(expr, \u001b[38;5;241m*\u001b[39mvariables, \u001b[38;5;241m*\u001b[39m\u001b[38;5;241m*\u001b[39mkwargs)\n",
      "File \u001b[1;32m~\\anaconda3\\lib\\site-packages\\sympy\\core\\function.py:1263\u001b[0m, in \u001b[0;36mDerivative.__new__\u001b[1;34m(cls, expr, *variables, **kwargs)\u001b[0m\n\u001b[0;32m   1261\u001b[0m     \u001b[38;5;28;01mreturn\u001b[39;00m S\u001b[38;5;241m.\u001b[39mZero\n\u001b[0;32m   1262\u001b[0m \u001b[38;5;28;01mif\u001b[39;00m \u001b[38;5;28mlen\u001b[39m(variables) \u001b[38;5;241m==\u001b[39m \u001b[38;5;241m0\u001b[39m:\n\u001b[1;32m-> 1263\u001b[0m     \u001b[38;5;28;01mraise\u001b[39;00m \u001b[38;5;167;01mValueError\u001b[39;00m(filldedent(\u001b[38;5;124m'''\u001b[39m\n\u001b[0;32m   1264\u001b[0m \u001b[38;5;124m        Since there are no variables in the expression,\u001b[39m\n\u001b[0;32m   1265\u001b[0m \u001b[38;5;124m        the variable(s) of differentiation must be supplied\u001b[39m\n\u001b[0;32m   1266\u001b[0m \u001b[38;5;124m        to differentiate \u001b[39m\u001b[38;5;132;01m%s\u001b[39;00m\u001b[38;5;124m'''\u001b[39m \u001b[38;5;241m%\u001b[39m expr))\n\u001b[0;32m   1267\u001b[0m \u001b[38;5;28;01melse\u001b[39;00m:\n\u001b[0;32m   1268\u001b[0m     \u001b[38;5;28;01mraise\u001b[39;00m \u001b[38;5;167;01mValueError\u001b[39;00m(filldedent(\u001b[38;5;124m'''\u001b[39m\n\u001b[0;32m   1269\u001b[0m \u001b[38;5;124m        Since there is more than one variable in the\u001b[39m\n\u001b[0;32m   1270\u001b[0m \u001b[38;5;124m        expression, the variable(s) of differentiation\u001b[39m\n\u001b[0;32m   1271\u001b[0m \u001b[38;5;124m        must be supplied to differentiate \u001b[39m\u001b[38;5;132;01m%s\u001b[39;00m\u001b[38;5;124m'''\u001b[39m \u001b[38;5;241m%\u001b[39m expr))\n",
      "\u001b[1;31mValueError\u001b[0m: \nSince there are no variables in the expression, the variable(s) of\ndifferentiation must be supplied to differentiate [-6.0,\n-5.75510204081633, -5.51020408163265, -5.26530612244898,\n-5.02040816326531, -4.77551020408163, -4.53061224489796,\n-4.28571428571429, -4.04081632653061, -3.79591836734694,\n-3.55102040816327, -3.30612244897959, -3.06122448979592,\n-2.81632653061224, -2.57142857142857, -2.3265306122449,\n-2.08163265306122, -1.83673469387755, -1.59183673469388,\n-1.3469387755102, -1.10204081632653, -0.857142857142858,\n-0.612244897959184, -0.36734693877551, -0.122448979591837,\n0.122448979591836, 0.36734693877551, 0.612244897959184,\n0.857142857142857, 1.10204081632653, 1.3469387755102,\n1.59183673469388, 1.83673469387755, 2.08163265306122, 2.3265306122449,\n2.57142857142857, 2.81632653061224, 3.06122448979592,\n3.30612244897959, 3.55102040816326, 3.79591836734694,\n4.04081632653061, 4.28571428571428, 4.53061224489796,\n4.77551020408163, 5.02040816326531, 5.26530612244898,\n5.51020408163265, 5.75510204081633, 6.0]"
     ]
    }
   ],
   "source": [
    "y = np.linspace(-6, 6)\n",
    "plt.plot(y, sym.diff(y), color='green', label='Derivative')\n",
    "plt.show()"
   ]
  },
  {
   "cell_type": "markdown",
   "id": "18fba084",
   "metadata": {},
   "source": [
    "<h2> Question 1</h2>"
   ]
  },
  {
   "cell_type": "code",
   "execution_count": 5,
   "id": "12d91664",
   "metadata": {},
   "outputs": [],
   "source": [
    "import sympy as sym\n",
    "import numpy as np"
   ]
  },
  {
   "cell_type": "code",
   "execution_count": 6,
   "id": "beb813e2",
   "metadata": {},
   "outputs": [],
   "source": [
    "x=sym.Symbol('x')"
   ]
  },
  {
   "cell_type": "code",
   "execution_count": 7,
   "id": "bd32ed0f",
   "metadata": {},
   "outputs": [
    {
     "data": {
      "text/latex": [
       "$\\displaystyle 6 x^{5}$"
      ],
      "text/plain": [
       "6*x**5"
      ]
     },
     "execution_count": 7,
     "metadata": {},
     "output_type": "execute_result"
    }
   ],
   "source": [
    "sym.diff(x**6)"
   ]
  },
  {
   "cell_type": "markdown",
   "id": "749dc80a",
   "metadata": {},
   "source": [
    "<h2> Question 2</h2>"
   ]
  },
  {
   "cell_type": "code",
   "execution_count": 8,
   "id": "af8dab68",
   "metadata": {},
   "outputs": [
    {
     "data": {
      "text/latex": [
       "$\\displaystyle 2 x \\cos{\\left(x \\right)} - \\left(x^{2} + 1\\right) \\sin{\\left(x \\right)}$"
      ],
      "text/plain": [
       "2*x*cos(x) - (x**2 + 1)*sin(x)"
      ]
     },
     "execution_count": 8,
     "metadata": {},
     "output_type": "execute_result"
    }
   ],
   "source": [
    "sym.diff((x**2 +1)*sym.cos(x))"
   ]
  },
  {
   "cell_type": "markdown",
   "id": "0142a010",
   "metadata": {},
   "source": [
    "<h2> Question 3</h2>"
   ]
  },
  {
   "cell_type": "code",
   "execution_count": 18,
   "id": "751c99ac",
   "metadata": {},
   "outputs": [
    {
     "data": {
      "text/latex": [
       "$\\displaystyle \\left(6 x + 9\\right) \\left(x^{2} + 3 x + 5\\right)^{2}$"
      ],
      "text/plain": [
       "(6*x + 9)*(x**2 + 3*x + 5)**2"
      ]
     },
     "execution_count": 18,
     "metadata": {},
     "output_type": "execute_result"
    }
   ],
   "source": [
    "sym.diff((x**2 +3*x +5)**3)"
   ]
  },
  {
   "cell_type": "markdown",
   "id": "c145793d",
   "metadata": {},
   "source": [
    "<h2> Question 4.</h2>"
   ]
  },
  {
   "cell_type": "code",
   "execution_count": 9,
   "id": "bc955bed",
   "metadata": {},
   "outputs": [],
   "source": [
    "t =sym.Symbol('t')\n",
    "import numpy as np"
   ]
  },
  {
   "cell_type": "code",
   "execution_count": 11,
   "id": "94b3526c",
   "metadata": {},
   "outputs": [
    {
     "data": {
      "text/latex": [
       "$\\displaystyle - 3 \\sin{\\left(\\frac{t}{2} \\right)} - 2.0 \\cdot 2.71828182845905^{- t}$"
      ],
      "text/plain": [
       "-3*sin(t/2) - 2.0/2.71828182845905**t"
      ]
     },
     "execution_count": 11,
     "metadata": {},
     "output_type": "execute_result"
    }
   ],
   "source": [
    "sym.diff(2*(np.e**-t)+ 6*sym.cos(t/2))"
   ]
  },
  {
   "cell_type": "markdown",
   "id": "3c421719",
   "metadata": {},
   "source": [
    "<h2> Question 5.</h2>"
   ]
  },
  {
   "cell_type": "code",
   "execution_count": 12,
   "id": "fd58f8ac",
   "metadata": {},
   "outputs": [
    {
     "data": {
      "text/latex": [
       "$\\displaystyle - \\frac{4 \\sin{\\left(4 x \\right)}}{\\cos{\\left(4 x \\right)}}$"
      ],
      "text/plain": [
       "-4*sin(4*x)/cos(4*x)"
      ]
     },
     "execution_count": 12,
     "metadata": {},
     "output_type": "execute_result"
    }
   ],
   "source": [
    "sym.diff((sym.ln(sym.cos(4*x))))"
   ]
  },
  {
   "cell_type": "markdown",
   "id": "e09ab10c",
   "metadata": {},
   "source": [
    "<h2> Question 6.</h2>"
   ]
  },
  {
   "cell_type": "code",
   "execution_count": 13,
   "id": "f392c836",
   "metadata": {},
   "outputs": [
    {
     "data": {
      "text/latex": [
       "$\\displaystyle - \\frac{163.794450099433 x^{3}}{\\left(x^{3} + 11\\right)^{2}} + \\frac{54.5981500331442}{x^{3} + 11}$"
      ],
      "text/plain": [
       "-163.794450099433*x**3/(x**3 + 11)**2 + 54.5981500331442/(x**3 + 11)"
      ]
     },
     "execution_count": 13,
     "metadata": {},
     "output_type": "execute_result"
    }
   ],
   "source": [
    "sym.diff(((np.e**4*x)/(x**3 +11)))"
   ]
  },
  {
   "cell_type": "markdown",
   "id": "f027ad46",
   "metadata": {},
   "source": [
    "<h2> Use Numpy or scipy to find the derivatives of these functions in questions 1 - 6. </h2>"
   ]
  },
  {
   "cell_type": "code",
   "execution_count": null,
   "id": "71cfc63c",
   "metadata": {},
   "outputs": [],
   "source": []
  },
  {
   "cell_type": "code",
   "execution_count": 4,
   "id": "0aa4866b",
   "metadata": {},
   "outputs": [],
   "source": [
    "import sympy as sp"
   ]
  },
  {
   "cell_type": "code",
   "execution_count": 19,
   "id": "e9f26c82",
   "metadata": {},
   "outputs": [],
   "source": [
    "t,i,j,k = np.symbols('t,i,j,k')"
   ]
  },
  {
   "cell_type": "code",
   "execution_count": null,
   "id": "a0cda7da",
   "metadata": {},
   "outputs": [],
   "source": []
  },
  {
   "cell_type": "code",
   "execution_count": 5,
   "id": "38fd14a0",
   "metadata": {},
   "outputs": [],
   "source": [
    "x =sp.Symbol('x')"
   ]
  },
  {
   "cell_type": "code",
   "execution_count": 6,
   "id": "386021ca",
   "metadata": {},
   "outputs": [],
   "source": [
    "a = 3/(x-2)"
   ]
  },
  {
   "cell_type": "code",
   "execution_count": 8,
   "id": "3e1a2abe",
   "metadata": {},
   "outputs": [
    {
     "data": {
      "text/latex": [
       "$\\displaystyle \\text{NaN}$"
      ],
      "text/plain": [
       "nan"
      ]
     },
     "execution_count": 8,
     "metadata": {},
     "output_type": "execute_result"
    }
   ],
   "source": [
    "sp.integrate(a,(x,0,4))"
   ]
  },
  {
   "cell_type": "code",
   "execution_count": null,
   "id": "3e37d3f9",
   "metadata": {},
   "outputs": [],
   "source": []
  }
 ],
 "metadata": {
  "kernelspec": {
   "display_name": "Python 3 (ipykernel)",
   "language": "python",
   "name": "python3"
  },
  "language_info": {
   "codemirror_mode": {
    "name": "ipython",
    "version": 3
   },
   "file_extension": ".py",
   "mimetype": "text/x-python",
   "name": "python",
   "nbconvert_exporter": "python",
   "pygments_lexer": "ipython3",
   "version": "3.9.12"
  }
 },
 "nbformat": 4,
 "nbformat_minor": 5
}
